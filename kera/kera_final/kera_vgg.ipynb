{
 "cells": [
  {
   "cell_type": "markdown",
   "metadata": {},
   "source": [
    "<h1>VGG Model</h1>\n",
    "<p>The file is the VGG model we use. The training dataset is 'train.csv', without 'extra.csv'. In this case, we only run the epoch =  15, \n",
    "but we could make the epoch larger to get a higher accuracy. </p>\n",
    "<p>In the submisstion in Kaggle, the epoch is 25.</p>"
   ]
  },
  {
   "cell_type": "code",
   "execution_count": 1,
   "metadata": {
    "collapsed": false
   },
   "outputs": [
    {
     "name": "stderr",
     "output_type": "stream",
     "text": [
      "Using TensorFlow backend.\n"
     ]
    }
   ],
   "source": [
    "from __future__ import print_function\n",
    "import keras\n",
    "from keras.datasets import cifar10\n",
    "from utils import *\n",
    "from keras.preprocessing.image import ImageDataGenerator\n",
    "from keras.models import Sequential\n",
    "from keras.layers import Dense, Dropout, Activation, Flatten, BatchNormalization\n",
    "from keras.layers import Conv2D, MaxPooling2D\n",
    "import numpy as np\n",
    "from sklearn.model_selection import train_test_split\n",
    "from scipy.io import loadmat"
   ]
  },
  {
   "cell_type": "code",
   "execution_count": 2,
   "metadata": {
    "collapsed": true
   },
   "outputs": [],
   "source": [
    "batch_size = 40\n",
    "num_classes = 10\n",
    "epochs = 15\n",
    "data_augmentation = False"
   ]
  },
  {
   "cell_type": "code",
   "execution_count": 3,
   "metadata": {
    "collapsed": true
   },
   "outputs": [],
   "source": [
    "def to_categorical(y, num_classes=None):\n",
    "    \"\"\"Converts a class vector (integers) to binary class matrix.\n",
    "    E.g. for use with categorical_crossentropy.\n",
    "    # Arguments\n",
    "        y: class vector to be converted into a matrix\n",
    "            (integers from 0 to num_classes).\n",
    "        num_classes: total number of classes.\n",
    "    # Returns\n",
    "        A binary matrix representation of the input.\n",
    "    \"\"\"\n",
    "    y = np.array(y, dtype='int').ravel()\n",
    "    if not num_classes:\n",
    "        num_classes = np.max(y) + 1\n",
    "    n = y.shape[0]\n",
    "    categorical = np.zeros((n, num_classes))\n",
    "    categorical[np.arange(n), y] = 1\n",
    "    return categorical"
   ]
  },
  {
   "cell_type": "code",
   "execution_count": 4,
   "metadata": {
    "collapsed": true
   },
   "outputs": [],
   "source": [
    "mat_train = loadmat(\"data/train_32x32.mat\")\n",
    "mat_train['X'] = mat_train['X'].transpose(3, 0, 1, 2)\n",
    "X_train = mat_train['X']\n",
    "X_train = 1.0 * X_train/255  # This line is vital for training!\n",
    "y_train = mat_train['y'].reshape(-1, )\n",
    "y_train[y_train == 10] = 0 \n",
    "\n",
    "mat_test = loadmat('data/test_32x32.mat')\n",
    "mat_test['X'] = mat_test['X'].transpose(3, 0, 1, 2)\n",
    "X_test = mat_test['X']\n",
    "X_test = 1.0*X_test/255\n",
    "\n",
    "X_train_final=X_train[:,2:30,2:30,:]\n",
    "X_test_final=X_test[:,2:30,2:30,:]\n",
    "\n",
    "X_train, X_val, y_train, y_val = train_test_split(X_train_final, y_train, test_size=0.3, random_state=0)\n"
   ]
  },
  {
   "cell_type": "code",
   "execution_count": 9,
   "metadata": {
    "collapsed": true
   },
   "outputs": [],
   "source": [
    "model = Sequential()\n",
    "\n",
    "model.add(Conv2D(32, (3, 3), padding='same',\n",
    "                 input_shape=X_train.shape[1:]))\n",
    "model.add(BatchNormalization())\n",
    "model.add(Activation('relu'))\n",
    "\n",
    "model.add(Conv2D(32, (3, 3)))\n",
    "model.add(Activation('relu'))\n",
    "model.add(MaxPooling2D(pool_size=(2, 2)))\n",
    "model.add(Dropout(0.2))\n",
    "\n",
    "model.add(Conv2D(64, (3, 3), padding='same'))\n",
    "model.add(BatchNormalization())\n",
    "model.add(Activation('relu'))\n",
    "model.add(Conv2D(64, (3, 3)))\n",
    "model.add(Activation('relu'))\n",
    "model.add(MaxPooling2D(pool_size=(2, 2)))\n",
    "model.add(Dropout(0.2))\n",
    "\n",
    "\n",
    "model.add(Flatten())\n",
    "model.add(Dense(512))\n",
    "model.add(BatchNormalization())\n",
    "model.add(Activation('relu'))\n",
    "model.add(Dropout(0.5))\n",
    "model.add(Dense(num_classes))\n",
    "model.add(BatchNormalization())\n",
    "model.add(Activation('softmax'))"
   ]
  },
  {
   "cell_type": "code",
   "execution_count": 6,
   "metadata": {
    "collapsed": true
   },
   "outputs": [],
   "source": [
    "y_train_final = to_categorical(y_train, num_classes)\n",
    "y_val_final = to_categorical(y_val, num_classes)"
   ]
  },
  {
   "cell_type": "code",
   "execution_count": 10,
   "metadata": {
    "collapsed": false
   },
   "outputs": [
    {
     "name": "stdout",
     "output_type": "stream",
     "text": [
      "Not using data augmentation.\n",
      "Train on 51279 samples, validate on 21978 samples\n",
      "Epoch 1/15\n",
      "51279/51279 [==============================] - 1230s - loss: 0.9181 - acc: 0.7406 - val_loss: 0.6649 - val_acc: 0.8212\n",
      "Epoch 2/15\n",
      "51279/51279 [==============================] - 810s - loss: 0.5315 - acc: 0.8509 - val_loss: 0.3912 - val_acc: 0.8884\n",
      "Epoch 3/15\n",
      "51279/51279 [==============================] - 806s - loss: 0.4403 - acc: 0.8753 - val_loss: 0.3667 - val_acc: 0.8956\n",
      "Epoch 4/15\n",
      "51279/51279 [==============================] - 804s - loss: 0.3821 - acc: 0.8900 - val_loss: 0.3484 - val_acc: 0.8962\n",
      "Epoch 5/15\n",
      "51279/51279 [==============================] - 802s - loss: 0.3425 - acc: 0.9014 - val_loss: 0.2698 - val_acc: 0.9236\n",
      "Epoch 6/15\n",
      "51279/51279 [==============================] - 802s - loss: 0.3154 - acc: 0.9089 - val_loss: 0.3662 - val_acc: 0.8945\n",
      "Epoch 7/15\n",
      "51279/51279 [==============================] - 800s - loss: 0.2918 - acc: 0.9155 - val_loss: 0.3095 - val_acc: 0.9091\n",
      "Epoch 8/15\n",
      "51279/51279 [==============================] - 798s - loss: 0.2728 - acc: 0.9192 - val_loss: 0.2283 - val_acc: 0.9332\n",
      "Epoch 9/15\n",
      "51279/51279 [==============================] - 798s - loss: 0.2531 - acc: 0.9264 - val_loss: 0.2534 - val_acc: 0.9275\n",
      "Epoch 10/15\n",
      "51279/51279 [==============================] - 799s - loss: 0.2411 - acc: 0.9299 - val_loss: 0.2357 - val_acc: 0.9338\n",
      "Epoch 11/15\n",
      "51279/51279 [==============================] - 801s - loss: 0.2233 - acc: 0.9346 - val_loss: 0.2435 - val_acc: 0.9298\n",
      "Epoch 12/15\n",
      "51279/51279 [==============================] - 815s - loss: 0.2135 - acc: 0.9380 - val_loss: 0.2338 - val_acc: 0.9337\n",
      "Epoch 13/15\n",
      "51279/51279 [==============================] - 835s - loss: 0.2037 - acc: 0.9399 - val_loss: 0.2692 - val_acc: 0.9210\n",
      "Epoch 14/15\n",
      "51279/51279 [==============================] - 857s - loss: 0.1919 - acc: 0.9435 - val_loss: 0.2252 - val_acc: 0.9346\n",
      "Epoch 15/15\n",
      "51279/51279 [==============================] - 832s - loss: 0.1825 - acc: 0.9460 - val_loss: 0.2383 - val_acc: 0.9326\n"
     ]
    }
   ],
   "source": [
    "opt = keras.optimizers.Adam(lr=0.001, beta_1=0.9, beta_2=0.999, epsilon=1e-08, decay=0.0)\n",
    "\n",
    "# Let's train the model using RMSprop\n",
    "model.compile(loss='categorical_crossentropy',\n",
    "              optimizer=opt,\n",
    "              metrics=['accuracy'])\n",
    "\n",
    "if not data_augmentation:\n",
    "    print('Not using data augmentation.')\n",
    "    history=model.fit(X_train, y_train_final,\n",
    "              batch_size=batch_size,\n",
    "              epochs=epochs,\n",
    "              validation_data=(X_val, y_val_final),\n",
    "              shuffle=True)\n",
    "else:\n",
    "    print('Using real-time data augmentation.')\n",
    "    # This will do preprocessing and realtime data augmentation:\n",
    "    datagen = ImageDataGenerator(\n",
    "        featurewise_center=False,  # set input mean to 0 over the dataset\n",
    "        samplewise_center=False,  # set each sample mean to 0\n",
    "        featurewise_std_normalization=False,  # divide inputs by std of the dataset\n",
    "        samplewise_std_normalization=False,  # divide each input by its std\n",
    "        zca_whitening=False,  # apply ZCA whitening\n",
    "        rotation_range=0,  # randomly rotate images in the range (degrees, 0 to 180)\n",
    "        width_shift_range=0.1,  # randomly shift images horizontally (fraction of total width)\n",
    "        height_shift_range=0.1,  # randomly shift images vertically (fraction of total height)\n",
    "        horizontal_flip=True,  # randomly flip images\n",
    "        vertical_flip=False)  # randomly flip images\n",
    "\n",
    "    # Compute quantities required for feature-wise normalization\n",
    "    # (std, mean, and principal components if ZCA whitening is applied).\n",
    "    datagen.fit(X_train)\n",
    "\n",
    "    # Fit the model on the batches generated by datagen.flow().\n",
    "    history=model.fit_generator(datagen.flow(X_train, y_train_final,\n",
    "                                     batch_size=batch_size),\n",
    "                        steps_per_epoch=X_train.shape[0] // batch_size,\n",
    "                        epochs=epochs,\n",
    "                        validation_data=(X_val, y_val_final))"
   ]
  },
  {
   "cell_type": "code",
   "execution_count": 11,
   "metadata": {
    "collapsed": false
   },
   "outputs": [
    {
     "data": {
      "image/png": "[encoded data removed]",
      "text/plain": [
       "<matplotlib.figure.Figure at 0x16a0a8af4e0>"
      ]
     },
     "metadata": {},
     "output_type": "display_data"
    }
   ],
   "source": [
    "import matplotlib.pyplot as plt\n",
    "plt.figure()\n",
    "plt.plot(history.history['acc'])\n",
    "plt.plot(history.history['val_acc'])\n",
    "plt.title('model accuracy')\n",
    "plt.ylabel('accuracy')\n",
    "plt.xlabel('epoch')\n",
    "plt.legend(['test', 'train'], loc='upper left')\n",
    "plt.show()"
   ]
  },
  {
   "cell_type": "code",
   "execution_count": 12,
   "metadata": {
    "collapsed": false
   },
   "outputs": [
    {
     "data": {
      "image/png": "[encoded data removed]",
      "text/plain": [
       "<matplotlib.figure.Figure at 0x16a0daed780>"
      ]
     },
     "metadata": {},
     "output_type": "display_data"
    }
   ],
   "source": [
    "plt.figure()\n",
    "plt.plot(history.history['loss'])\n",
    "plt.plot(history.history['val_loss'])\n",
    "plt.title('model loss')\n",
    "plt.ylabel('loss')\n",
    "plt.xlabel('epoch')\n",
    "plt.legend(['test', 'train'], loc='upper left')\n",
    "plt.show()"
   ]
  },
  {
   "cell_type": "code",
   "execution_count": 12,
   "metadata": {
    "collapsed": true
   },
   "outputs": [],
   "source": [
    "y_test_final=np.argmax(model.predict(X_test_final),axis=1)"
   ]
  },
  {
   "cell_type": "code",
   "execution_count": 13,
   "metadata": {
    "collapsed": true
   },
   "outputs": [],
   "source": [
    "y_test=np.where(y_test_final>0,y_test_final,10)"
   ]
  },
  {
   "cell_type": "code",
   "execution_count": 14,
   "metadata": {
    "collapsed": true
   },
   "outputs": [],
   "source": [
    "import csv\n",
    "with open(\"output.csv\",\"w\",newline=\"\") as datacsv:\n",
    "    csvwriter = csv.writer(datacsv,dialect = (\"excel\"))\n",
    "    csvwriter.writerow(['ImageId', 'label'])\n",
    "    for i in range(len(y_test)):\n",
    "        csvwriter.writerow((i, y_test[i]))"
   ]
  },
  {
   "cell_type": "code",
   "execution_count": null,
   "metadata": {
    "collapsed": true
   },
   "outputs": [],
   "source": []
  }
 ],
 "metadata": {
  "kernelspec": {
   "display_name": "Python 2",
   "language": "python",
   "name": "python2"
  },
  "language_info": {
   "codemirror_mode": {
    "name": "ipython",
    "version": 2
   },
   "file_extension": ".py",
   "mimetype": "text/x-python",
   "name": "python",
   "nbconvert_exporter": "python",
   "pygments_lexer": "ipython2",
   "version": "2.7.13"
  }
 },
 "nbformat": 4,
 "nbformat_minor": 2
}
