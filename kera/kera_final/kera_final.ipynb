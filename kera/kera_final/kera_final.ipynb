{
 "cells": [
  {
   "cell_type": "markdown",
   "metadata": {},
   "source": [
    "<h1>Final Model</h1>\n",
    "<p>The file is the final model we use. In this case, we only run the epoch =  10, but we could set the epoch = 25. We use the epoch in another python file and submit the output in Kaggle. To increase the accuracy, we add the whole extra dataset to out training dataset.  </p>"
   ]
  },
  {
   "cell_type": "code",
   "execution_count": 6,
   "metadata": {},
   "outputs": [],
   "source": [
    "from __future__ import print_function\n",
    "import keras\n",
    "from keras.datasets import cifar10\n",
    "from utils import *\n",
    "from keras.preprocessing.image import ImageDataGenerator\n",
    "from keras.models import Sequential\n",
    "from keras.layers import Dense, Dropout, Activation, Flatten, BatchNormalization\n",
    "from keras.layers import Conv2D, MaxPooling2D, AveragePooling2D\n",
    "import numpy as np\n",
    "from sklearn.model_selection import train_test_split\n",
    "from scipy.io import loadmat"
   ]
  },
  {
   "cell_type": "code",
   "execution_count": 4,
   "metadata": {
    "collapsed": true
   },
   "outputs": [],
   "source": [
    "def dense_to_one_hot(labels_dense, num_classes=10):\n",
    "    \"\"\"Convert class labels from scalars to matrix.\"\"\"\n",
    "    num_labels = labels_dense.shape[0]\n",
    "    index_offset = np.arange(num_labels) * num_classes\n",
    "    labels_one_hot = np.zeros((num_labels, num_classes))\n",
    "    for i in range(labels_dense.shape[0]):\n",
    "        labels_one_hot[i,labels_dense[i]]=1\n",
    "    return labels_one_hot"
   ]
  },
  {
   "cell_type": "code",
   "execution_count": 5,
   "metadata": {},
   "outputs": [
    {
     "name": "stdout",
     "output_type": "stream",
     "text": [
      "Loading data\n",
      "Data loaded!\n"
     ]
    }
   ],
   "source": [
    "print(\"Loading data\")\n",
    "mat_train = loadmat(\"data/train_32x32.mat\")\n",
    "mat_train['X'] = mat_train['X'].transpose(3, 0, 1, 2)\n",
    "\n",
    "x_train = mat_train['X']\n",
    "y_train = mat_train['y'].reshape(-1, )\n",
    "y_train[y_train == 10] = 0\n",
    "\n",
    "del mat_train\n",
    "\n",
    "\n",
    "mat_extra = loadmat(\"data/extra_32x32.mat\")\n",
    "mat_extra['X'] = mat_extra['X'].transpose(3, 0, 1, 2)\n",
    "\n",
    "x_extra = mat_extra['X']\n",
    "y_extra = mat_extra['y'].reshape(-1, )\n",
    "y_extra[y_extra == 10] = 0\n",
    "del mat_extra\n",
    "\n",
    "x_train = np.concatenate((x_train, x_extra), axis=0)\n",
    "y_train = np.concatenate((y_train, y_extra), axis=0)\n",
    "\n",
    "mat_test = loadmat('data/test_32x32.mat')\n",
    "mat_test['X'] = mat_test['X'].transpose(3, 0, 1, 2)\n",
    "x_test = mat_test['X']\n",
    "del mat_test\n",
    "\n",
    "x_train_final=x_train[:,2:30,2:30,:]\n",
    "x_test_final=x_test[:,2:30,2:30,:]\n",
    "\n",
    "x_train, x_val, y_train, y_val = train_test_split(x_train_final, y_train, test_size=0.2, random_state=1)\n",
    "\n",
    "print(\"Data loaded!\")"
   ]
  },
  {
   "cell_type": "code",
   "execution_count": 6,
   "metadata": {
    "collapsed": true
   },
   "outputs": [],
   "source": [
    "batch_size = 256\n",
    "num_classes = 10\n",
    "epochs = 25\n",
    "\n",
    "model = Sequential()\n",
    "\n",
    "model.add(Conv2D(16, (3, 3), padding='same',\n",
    "                 input_shape=x_train.shape[1:], activation=None, use_bias=False))\n",
    "model.add(BatchNormalization())\n",
    "model.add(Activation('relu'))\n",
    "\n",
    "model.add(Conv2D(16, (3, 3), padding='same', activation=None, use_bias=False))\n",
    "model.add(BatchNormalization())\n",
    "model.add(Activation('relu'))\n",
    "\n",
    "model.add(Conv2D(32, (3, 3),  padding='same', activation=None, use_bias=False))\n",
    "model.add(BatchNormalization())\n",
    "model.add(Activation('relu'))\n",
    "\n",
    "model.add(MaxPooling2D(pool_size=(2, 2)))\n",
    "\n",
    "model.add(Conv2D(64, (3, 3), padding='same', activation=None, use_bias=False))\n",
    "model.add(BatchNormalization())\n",
    "model.add(Activation('relu'))\n",
    "\n",
    "model.add(Conv2D(64, (3, 3), padding='same', activation=None, use_bias=False))\n",
    "model.add(BatchNormalization())\n",
    "model.add(Activation('relu'))\n",
    "\n",
    "model.add(Conv2D(64, (3, 3), padding='same', activation=None, use_bias=False))\n",
    "model.add(BatchNormalization())\n",
    "model.add(Activation('relu'))\n",
    "model.add(MaxPooling2D(pool_size=(2, 2)))\n",
    "model.add(Dropout(0.5))\n",
    "\n",
    "\n",
    "model.add(Flatten())\n",
    "model.add(Dense(512, activation=None, use_bias=False))\n",
    "model.add(BatchNormalization())\n",
    "model.add(Activation('relu'))\n",
    "model.add(Dropout(0.5))\n",
    "model.add(Dense(num_classes, activation=None))\n",
    "model.add(Activation('softmax'))"
   ]
  },
  {
   "cell_type": "code",
   "execution_count": 7,
   "metadata": {
    "collapsed": true
   },
   "outputs": [],
   "source": [
    "y_train_final = dense_to_one_hot(y_train, num_classes)\n",
    "y_val_final = dense_to_one_hot(y_val, num_classes)"
   ]
  },
  {
   "cell_type": "code",
   "execution_count": 9,
   "metadata": {},
   "outputs": [
    {
     "name": "stdout",
     "output_type": "stream",
     "text": [
      "Not using data augmentation.\n",
      "Train on 483510 samples, validate on 120878 samples\n",
      "Epoch 1/10\n",
      "483510/483510 [==============================] - 253s - loss: 0.2500 - acc: 0.9241 - val_loss: 0.1316 - val_acc: 0.9618\n",
      "Epoch 2/10\n",
      "483510/483510 [==============================] - 256s - loss: 0.1203 - acc: 0.9660 - val_loss: 0.1118 - val_acc: 0.9690\n",
      "Epoch 3/10\n",
      "483510/483510 [==============================] - 254s - loss: 0.1029 - acc: 0.9715 - val_loss: 0.0976 - val_acc: 0.9732\n",
      "Epoch 4/10\n",
      "483510/483510 [==============================] - 257s - loss: 0.0920 - acc: 0.9751 - val_loss: 0.0872 - val_acc: 0.9771\n",
      "Epoch 5/10\n",
      "483510/483510 [==============================] - 255s - loss: 0.0858 - acc: 0.9769 - val_loss: 0.0800 - val_acc: 0.9789\n",
      "Epoch 6/10\n",
      "483510/483510 [==============================] - 257s - loss: 0.0796 - acc: 0.9786 - val_loss: 0.0767 - val_acc: 0.9800\n",
      "Epoch 7/10\n",
      "483510/483510 [==============================] - 257s - loss: 0.0745 - acc: 0.9802 - val_loss: 0.0730 - val_acc: 0.9816\n",
      "Epoch 8/10\n",
      "483510/483510 [==============================] - 253s - loss: 0.0712 - acc: 0.9810 - val_loss: 0.0780 - val_acc: 0.9797\n",
      "Epoch 9/10\n",
      "483510/483510 [==============================] - 255s - loss: 0.0679 - acc: 0.9819 - val_loss: 0.0742 - val_acc: 0.9810\n",
      "Epoch 10/10\n",
      "483510/483510 [==============================] - 255s - loss: 0.0642 - acc: 0.9832 - val_loss: 0.0743 - val_acc: 0.9817\n",
      "Using real-time data augmentation.\n"
     ]
    },
    {
     "ename": "NameError",
     "evalue": "name 'X_train' is not defined",
     "output_type": "error",
     "traceback": [
      "\u001b[0;31m---------------------------------------------------------------------------\u001b[0m",
      "\u001b[0;31mNameError\u001b[0m                                 Traceback (most recent call last)",
      "\u001b[0;32m<ipython-input-9-304b1b91e5e4>\u001b[0m in \u001b[0;36m<module>\u001b[0;34m()\u001b[0m\n\u001b[1;32m     38\u001b[0m \u001b[0;34m\u001b[0m\u001b[0m\n\u001b[1;32m     39\u001b[0m \u001b[0;31m# Fit the model on the batches generated by datagen.flow().\u001b[0m\u001b[0;34m\u001b[0m\u001b[0;34m\u001b[0m\u001b[0m\n\u001b[0;32m---> 40\u001b[0;31m history=model.fit_generator(datagen.flow(X_train, y_train_final,\n\u001b[0m\u001b[1;32m     41\u001b[0m                                  batch_size=batch_size),\n\u001b[1;32m     42\u001b[0m                     \u001b[0msteps_per_epoch\u001b[0m\u001b[0;34m=\u001b[0m\u001b[0mX_train\u001b[0m\u001b[0;34m.\u001b[0m\u001b[0mshape\u001b[0m\u001b[0;34m[\u001b[0m\u001b[0;36m0\u001b[0m\u001b[0;34m]\u001b[0m \u001b[0;34m//\u001b[0m \u001b[0mbatch_size\u001b[0m\u001b[0;34m,\u001b[0m\u001b[0;34m\u001b[0m\u001b[0m\n",
      "\u001b[0;31mNameError\u001b[0m: name 'X_train' is not defined"
     ]
    }
   ],
   "source": [
    "\n",
    "opt = keras.optimizers.Adam(lr=0.001, beta_1=0.9, beta_2=0.999, epsilon=1e-08, decay=0.0)\n",
    "\n",
    "# Let's train the model using RMSprop\n",
    "model.compile(loss='categorical_crossentropy',\n",
    "              optimizer=opt,\n",
    "              metrics=['accuracy'])\n",
    "\n",
    "\n",
    "print('Not using data augmentation.')\n",
    "history=model.fit(x_train, y_train_final,\n",
    "          batch_size=batch_size,\n",
    "          epochs=epochs,\n",
    "          validation_data=(x_val, y_val_final),\n",
    "          shuffle=True)\n"
   ]
  },
  {
   "cell_type": "code",
   "execution_count": 10,
   "metadata": {
    "collapsed": true,
    "scrolled": true
   },
   "outputs": [],
   "source": [
    "model.save('output_weights.h5')"
   ]
  },
  {
   "cell_type": "code",
   "execution_count": 11,
   "metadata": {},
   "outputs": [
    {
     "data": {
      "image/png": "[encoded data removed]",
      "text/plain": [
       "<matplotlib.figure.Figure at 0x7f956423d400>"
      ]
     },
     "metadata": {},
     "output_type": "display_data"
    }
   ],
   "source": [
    "import matplotlib.pyplot as plt\n",
    "plt.figure()\n",
    "plt.plot(history.history['acc'])\n",
    "plt.plot(history.history['val_acc'])\n",
    "plt.title('model accuracy')\n",
    "plt.ylabel('accuracy')\n",
    "plt.xlabel('epoch')\n",
    "plt.legend(['test', 'train'], loc='upper left')\n",
    "plt.show()"
   ]
  },
  {
   "cell_type": "code",
   "execution_count": 12,
   "metadata": {},
   "outputs": [
    {
     "data": {
      "image/png": "[encoded data removed]",
      "text/plain": [
       "<matplotlib.figure.Figure at 0x7f955f157e10>"
      ]
     },
     "metadata": {},
     "output_type": "display_data"
    }
   ],
   "source": [
    "plt.figure(figure)\n",
    "plt.plot(history.history['loss'])\n",
    "plt.plot(history.history['val_loss'])\n",
    "plt.title('model loss')\n",
    "plt.ylabel('loss')\n",
    "plt.xlabel('epoch')\n",
    "plt.legend(['test', 'train'], loc='upper left')\n",
    "plt.show()"
   ]
  },
  {
   "cell_type": "code",
   "execution_count": 8,
   "metadata": {
    "collapsed": true
   },
   "outputs": [],
   "source": [
    "y_test_final=np.argmax(model.predict(x_test_final),axis=1)"
   ]
  },
  {
   "cell_type": "code",
   "execution_count": null,
   "metadata": {
    "collapsed": true
   },
   "outputs": [],
   "source": [
    "y_test=np.where(y_test_final>0,y_test_final,10)"
   ]
  },
  {
   "cell_type": "code",
   "execution_count": 15,
   "metadata": {
    "collapsed": true
   },
   "outputs": [],
   "source": [
    "import csv\n",
    "with open(\"output_final.csv\",\"w\",newline=\"\") as datacsv:\n",
    "    csvwriter = csv.writer(datacsv,dialect = (\"excel\"))\n",
    "    csvwriter.writerow(['ImageId', 'label'])\n",
    "    for i in range(len(y_test)):\n",
    "        csvwriter.writerow((i, y_test[i]))"
   ]
  },
  {
   "cell_type": "code",
   "execution_count": null,
   "metadata": {
    "collapsed": true
   },
   "outputs": [],
   "source": []
  }
 ],
 "metadata": {
  "kernelspec": {
   "display_name": "Python 3",
   "language": "python",
   "name": "python3"
  },
  "language_info": {
   "codemirror_mode": {
    "name": "ipython",
    "version": 3
   },
   "file_extension": ".py",
   "mimetype": "text/x-python",
   "name": "python",
   "nbconvert_exporter": "python",
   "pygments_lexer": "ipython3",
   "version": "3.5.2"
  }
 },
 "nbformat": 4,
 "nbformat_minor": 2
}
