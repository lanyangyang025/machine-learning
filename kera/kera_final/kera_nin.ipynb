{
 "cells": [
  {
   "cell_type": "markdown",
   "metadata": {},
   "source": [
    "<h1>NIN Model</h1>\n",
    "<p>The file is the NIN model we use. The training dataset is 'train.csv', without 'extra.csv'. In this case, we only run the epoch =  10, \n",
    "but we could make the epoch larger to get a higher accuracy. </p>\n",
    "<p>In the submisstion in Kaggle, the epoch is 25.</p>"
   ]
  },
  {
   "cell_type": "code",
   "execution_count": 2,
   "metadata": {
    "collapsed": false
   },
   "outputs": [
    {
     "name": "stderr",
     "output_type": "stream",
     "text": [
      "Using TensorFlow backend.\n"
     ]
    }
   ],
   "source": [
    "from __future__ import print_function\n",
    "import keras\n",
    "from keras.datasets import cifar10\n",
    "from utils import *\n",
    "from keras.preprocessing.image import ImageDataGenerator\n",
    "from keras.models import Sequential\n",
    "from keras.layers import Dense, Dropout, Activation, Flatten, BatchNormalization\n",
    "from keras.layers import Conv2D, MaxPooling2D, AveragePooling2D\n",
    "import numpy as np\n",
    "from sklearn.model_selection import train_test_split\n",
    "from scipy.io import loadmat"
   ]
  },
  {
   "cell_type": "code",
   "execution_count": 3,
   "metadata": {
    "collapsed": true
   },
   "outputs": [],
   "source": [
    "def dense_to_one_hot(labels_dense, num_classes=10):\n",
    "    \"\"\"Convert class labels from scalars to one-hot vectors.\"\"\"\n",
    "    num_labels = labels_dense.shape[0]\n",
    "    index_offset = np.arange(num_labels) * num_classes\n",
    "    labels_one_hot = np.zeros((num_labels, num_classes))\n",
    "    for i in range(labels_dense.shape[0]):\n",
    "        labels_one_hot[i,labels_dense[i]]=1;\n",
    "    return labels_one_hot"
   ]
  },
  {
   "cell_type": "code",
   "execution_count": 4,
   "metadata": {
    "collapsed": false
   },
   "outputs": [
    {
     "name": "stdout",
     "output_type": "stream",
     "text": [
      "Loading data\n",
      "Data loaded!\n"
     ]
    }
   ],
   "source": [
    "print(\"Loading data\")\n",
    "mat_train = loadmat(\"data/train_32x32.mat\")\n",
    "mat_train['X'] = mat_train['X'].transpose(3, 0, 1, 2)\n",
    "\n",
    "x_train = mat_train['X']\n",
    "y_train = mat_train['y'].reshape(-1, )\n",
    "y_train[y_train == 10] = 0\n",
    "\n",
    "del mat_train\n",
    "\n",
    "mat_test = loadmat('data/test_32x32.mat')\n",
    "mat_test['X'] = mat_test['X'].transpose(3, 0, 1, 2)\n",
    "x_test = mat_test['X']\n",
    "del mat_test\n",
    "\n",
    "x_train_final=x_train[:,2:30,2:30,:]\n",
    "x_test_final=x_test[:,2:30,2:30,:]\n",
    "\n",
    "x_train, x_val, y_train, y_val = train_test_split(x_train_final, y_train, test_size=0.2, random_state=1)\n",
    "\n",
    "print(\"Data loaded!\")"
   ]
  },
  {
   "cell_type": "code",
   "execution_count": 8,
   "metadata": {
    "collapsed": true
   },
   "outputs": [],
   "source": [
    "batch_size = 256\n",
    "num_classes = 10\n",
    "epochs = 10\n",
    "\n",
    "model = Sequential()\n",
    "\n",
    "model.add(Conv2D(32, (5, 5), padding='VALID',\n",
    "                 input_shape=x_train.shape[1:]))\n",
    "model.add(Conv2D(32, (1, 1)))\n",
    "model.add(Conv2D(32, (1, 1)))\n",
    "model.add(Activation('relu'))\n",
    "model.add(BatchNormalization())\n",
    "model.add(MaxPooling2D(pool_size=(2, 2)))\n",
    "model.add(Dropout(0.2))\n",
    "\n",
    "model.add(Conv2D(64, (3, 3), padding='VALID'))\n",
    "model.add(Conv2D(64, (1, 1)))\n",
    "model.add(Conv2D(64, (1, 1)))\n",
    "model.add(Activation('relu'))\n",
    "model.add(BatchNormalization())\n",
    "model.add(MaxPooling2D(pool_size=(2, 2)))\n",
    "model.add(Dropout(0.2))\n",
    "\n",
    "model.add(Conv2D(128, (2, 2), padding='VALID'))\n",
    "model.add(Conv2D(128, (1, 1)))\n",
    "model.add(Conv2D(128, (1, 1)))\n",
    "model.add(Activation('relu'))\n",
    "model.add(BatchNormalization())\n",
    "model.add(AveragePooling2D(pool_size=(2, 2)))\n",
    "model.add(Dropout(0.2))\n",
    "\n",
    "\n",
    "model.add(Flatten())\n",
    "model.add(Dense(512))\n",
    "model.add(Activation('relu'))\n",
    "model.add(Dropout(0.5))\n",
    "\n",
    "model.add(Dense(num_classes))\n",
    "model.add(Activation('softmax'))"
   ]
  },
  {
   "cell_type": "code",
   "execution_count": 6,
   "metadata": {
    "collapsed": true
   },
   "outputs": [],
   "source": [
    "y_train_final = dense_to_one_hot(y_train, num_classes)\n",
    "y_val_final = dense_to_one_hot(y_val, num_classes)"
   ]
  },
  {
   "cell_type": "code",
   "execution_count": 9,
   "metadata": {
    "collapsed": false
   },
   "outputs": [
    {
     "name": "stdout",
     "output_type": "stream",
     "text": [
      "Not using data augmentation.\n",
      "Train on 58605 samples, validate on 14652 samples\n",
      "Epoch 1/10\n",
      "58605/58605 [==============================] - 546s - loss: 0.9441 - acc: 0.6962 - val_loss: 0.5483 - val_acc: 0.8335\n",
      "Epoch 2/10\n",
      "58605/58605 [==============================] - 517s - loss: 0.5067 - acc: 0.8436 - val_loss: 0.4676 - val_acc: 0.8625\n",
      "Epoch 3/10\n",
      "58605/58605 [==============================] - 502s - loss: 0.4396 - acc: 0.8646 - val_loss: 0.4482 - val_acc: 0.8655\n",
      "Epoch 4/10\n",
      "58605/58605 [==============================] - 506s - loss: 0.4002 - acc: 0.8780 - val_loss: 0.3438 - val_acc: 0.9011\n",
      "Epoch 5/10\n",
      "58605/58605 [==============================] - 495s - loss: 0.3745 - acc: 0.8858 - val_loss: 0.3550 - val_acc: 0.8979\n",
      "Epoch 6/10\n",
      "58605/58605 [==============================] - 499s - loss: 0.3496 - acc: 0.8945 - val_loss: 0.3358 - val_acc: 0.9059\n",
      "Epoch 7/10\n",
      "58605/58605 [==============================] - 501s - loss: 0.3365 - acc: 0.8979 - val_loss: 0.3160 - val_acc: 0.9113\n",
      "Epoch 8/10\n",
      "58605/58605 [==============================] - 497s - loss: 0.3211 - acc: 0.9029 - val_loss: 0.3093 - val_acc: 0.9146\n",
      "Epoch 9/10\n",
      "58605/58605 [==============================] - 498s - loss: 0.3143 - acc: 0.9046 - val_loss: 0.3107 - val_acc: 0.9126\n",
      "Epoch 10/10\n",
      "58605/58605 [==============================] - 495s - loss: 0.3052 - acc: 0.9064 - val_loss: 0.3166 - val_acc: 0.9118\n"
     ]
    }
   ],
   "source": [
    "opt = keras.optimizers.Adam(lr=0.001, beta_1=0.9, beta_2=0.999, epsilon=1e-08, decay=0.0)\n",
    "\n",
    "# Let's train the model using RMSprop\n",
    "model.compile(loss='categorical_crossentropy',\n",
    "              optimizer=opt,\n",
    "              metrics=['accuracy'])\n",
    "\n",
    "\n",
    "print('Not using data augmentation.')\n",
    "history=model.fit(x_train, y_train_final,\n",
    "          batch_size=batch_size,\n",
    "          epochs=epochs,\n",
    "          validation_data=(x_val, y_val_final),\n",
    "          shuffle=True)\n",
    "\n"
   ]
  },
  {
   "cell_type": "code",
   "execution_count": 10,
   "metadata": {
    "collapsed": true
   },
   "outputs": [],
   "source": [
    "y_test_final=np.argmax(model.predict(x_test_final),axis=1)"
   ]
  },
  {
   "cell_type": "code",
   "execution_count": 11,
   "metadata": {
    "collapsed": false
   },
   "outputs": [
    {
     "ename": "NameError",
     "evalue": "name 'ModelName' is not defined",
     "output_type": "error",
     "traceback": [
      "\u001b[1;31m---------------------------------------------------------------------------\u001b[0m",
      "\u001b[1;31mNameError\u001b[0m                                 Traceback (most recent call last)",
      "\u001b[1;32m<ipython-input-11-400316e84e1a>\u001b[0m in \u001b[0;36m<module>\u001b[1;34m()\u001b[0m\n\u001b[0;32m      6\u001b[0m \u001b[0mplt\u001b[0m\u001b[1;33m.\u001b[0m\u001b[0mxlabel\u001b[0m\u001b[1;33m(\u001b[0m\u001b[1;34m'epoch'\u001b[0m\u001b[1;33m)\u001b[0m\u001b[1;33m\u001b[0m\u001b[0m\n\u001b[0;32m      7\u001b[0m \u001b[0mplt\u001b[0m\u001b[1;33m.\u001b[0m\u001b[0mlegend\u001b[0m\u001b[1;33m(\u001b[0m\u001b[1;33m[\u001b[0m\u001b[1;34m'test'\u001b[0m\u001b[1;33m,\u001b[0m \u001b[1;34m'train'\u001b[0m\u001b[1;33m]\u001b[0m\u001b[1;33m,\u001b[0m \u001b[0mloc\u001b[0m\u001b[1;33m=\u001b[0m\u001b[1;34m'upper left'\u001b[0m\u001b[1;33m)\u001b[0m\u001b[1;33m\u001b[0m\u001b[0m\n\u001b[1;32m----> 8\u001b[1;33m \u001b[0mplt\u001b[0m\u001b[1;33m.\u001b[0m\u001b[0msavefig\u001b[0m\u001b[1;33m(\u001b[0m\u001b[0mModelName\u001b[0m\u001b[1;33m+\u001b[0m\u001b[1;34m\"_acc.jpg\"\u001b[0m\u001b[1;33m)\u001b[0m\u001b[1;33m\u001b[0m\u001b[0m\n\u001b[0m",
      "\u001b[1;31mNameError\u001b[0m: name 'ModelName' is not defined"
     ]
    }
   ],
   "source": [
    "plt.figure()\n",
    "plt.plot(history.history['acc'])\n",
    "plt.plot(history.history['val_acc'])\n",
    "plt.title('model accuracy')\n",
    "plt.ylabel('accuracy')\n",
    "plt.xlabel('epoch')\n",
    "plt.legend(['test', 'train'], loc='upper left')\n",
    "plt.show()"
   ]
  },
  {
   "cell_type": "code",
   "execution_count": null,
   "metadata": {
    "collapsed": true
   },
   "outputs": [],
   "source": [
    "plt.figure()\n",
    "plt.plot(history.history['loss'])\n",
    "plt.plot(history.history['val_loss'])\n",
    "plt.title('model loss')\n",
    "plt.ylabel('loss')\n",
    "plt.xlabel('epoch')\n",
    "plt.legend(['test', 'train'], loc='upper left')\n",
    "plt.show()"
   ]
  },
  {
   "cell_type": "code",
   "execution_count": 14,
   "metadata": {
    "collapsed": true
   },
   "outputs": [],
   "source": [
    "y_test=np.where(y_test_final>0,y_test_final,10)"
   ]
  },
  {
   "cell_type": "code",
   "execution_count": 15,
   "metadata": {
    "collapsed": true
   },
   "outputs": [],
   "source": [
    "import csv\n",
    "with open(\"output_nin.csv\",\"w\",newline=\"\") as datacsv:\n",
    "    csvwriter = csv.writer(datacsv,dialect = (\"excel\"))\n",
    "    csvwriter.writerow(['ImageId', 'label'])\n",
    "    for i in range(len(y_test)):\n",
    "        csvwriter.writerow((i, y_test[i]))"
   ]
  },
  {
   "cell_type": "code",
   "execution_count": null,
   "metadata": {
    "collapsed": true
   },
   "outputs": [],
   "source": []
  }
 ],
 "metadata": {
  "kernelspec": {
   "display_name": "Python 2",
   "language": "python",
   "name": "python2"
  },
  "language_info": {
   "codemirror_mode": {
    "name": "ipython",
    "version": 2
   },
   "file_extension": ".py",
   "mimetype": "text/x-python",
   "name": "python",
   "nbconvert_exporter": "python",
   "pygments_lexer": "ipython2",
   "version": "2.7.13"
  }
 },
 "nbformat": 4,
 "nbformat_minor": 2
}
