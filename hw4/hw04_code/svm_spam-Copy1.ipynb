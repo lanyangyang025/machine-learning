{
 "cells": [
  {
   "cell_type": "code",
   "execution_count": 1,
   "metadata": {
    "collapsed": false
   },
   "outputs": [],
   "source": [
    "import random\n",
    "import numpy as np\n",
    "import matplotlib.pyplot as plt\n",
    "\n",
    "# This is a bit of magic to make matplotlib figures appear inline in the notebook\n",
    "# rather than in a new window.\n",
    "\n",
    "%matplotlib inline\n",
    "plt.rcParams['figure.figsize'] = (10.0, 8.0) # set default size of plots\n",
    "plt.rcParams['image.interpolation'] = 'nearest'\n",
    "plt.rcParams['image.cmap'] = 'gray'\n",
    "\n",
    "# Some more magic so that the notebook will reload external python modules;\n",
    "# see http://stackoverflow.com/questions/1907993/autoreload-of-modules-in-ipython\n",
    "\n",
    "%load_ext autoreload\n",
    "%autoreload 2"
   ]
  },
  {
   "cell_type": "code",
   "execution_count": 3,
   "metadata": {
    "collapsed": false,
    "scrolled": true
   },
   "outputs": [
    {
     "name": "stdout",
     "output_type": "stream",
     "text": [
      "training with C: 100, num_iters: 2000, learning_rate: 0.001\n",
      "When C = 100, num_iters = 2000, learning_rate = 0.001, validation accuracy = 0.991\n",
      "----------------------------------------------------------------------\n",
      "training with C: 100, num_iters: 2000, learning_rate: 0.01\n",
      "When C = 100, num_iters = 2000, learning_rate = 0.01, validation accuracy = 0.985\n",
      "----------------------------------------------------------------------\n",
      "training with C: 100, num_iters: 2000, learning_rate: 0.1\n",
      "When C = 100, num_iters = 2000, learning_rate = 0.1, validation accuracy = 0.988\n",
      "----------------------------------------------------------------------\n",
      "training with C: 100, num_iters: 5000, learning_rate: 0.001\n",
      "When C = 100, num_iters = 5000, learning_rate = 0.001, validation accuracy = 0.987\n",
      "----------------------------------------------------------------------\n",
      "training with C: 100, num_iters: 5000, learning_rate: 0.01\n",
      "When C = 100, num_iters = 5000, learning_rate = 0.01, validation accuracy = 0.982\n",
      "----------------------------------------------------------------------\n",
      "training with C: 100, num_iters: 5000, learning_rate: 0.1\n",
      "When C = 100, num_iters = 5000, learning_rate = 0.1, validation accuracy = 0.988\n",
      "----------------------------------------------------------------------\n",
      "training with C: 100, num_iters: 10000, learning_rate: 0.001\n",
      "When C = 100, num_iters = 10000, learning_rate = 0.001, validation accuracy = 0.982\n",
      "----------------------------------------------------------------------\n",
      "training with C: 100, num_iters: 10000, learning_rate: 0.01\n",
      "When C = 100, num_iters = 10000, learning_rate = 0.01, validation accuracy = 0.982\n",
      "----------------------------------------------------------------------\n",
      "training with C: 100, num_iters: 10000, learning_rate: 0.1\n",
      "When C = 100, num_iters = 10000, learning_rate = 0.1, validation accuracy = 0.988\n",
      "----------------------------------------------------------------------\n",
      "So the best paramater set we derive is: 100 2000 0.001\n"
     ]
    }
   ],
   "source": [
    "from sklearn import preprocessing, metrics\n",
    "import utils\n",
    "import scipy.io\n",
    "import numpy as np\n",
    "from linear_classifier import LinearSVM_twoclass\n",
    "\n",
    "# load the SPAM email training dataset\n",
    "\n",
    "X,y = utils.load_mat('data/spamTrain.mat')\n",
    "yy = np.ones(y.shape)\n",
    "yy[y==0] = -1\n",
    "\n",
    "# load the SPAM email test dataset\n",
    "\n",
    "test_data = scipy.io.loadmat('data/spamTest.mat')\n",
    "X_test = test_data['Xtest']\n",
    "y_test = test_data['ytest'].flatten()\n",
    "yy_test = np.ones(y_test.shape)\n",
    "yy_test[y_test == 0] = -1\n",
    "\n",
    "##################################################################################\n",
    "#  YOUR CODE HERE for training the best performing SVM for the data above.       #\n",
    "#  what should C be? What should num_iters be? Should X be scaled?               #\n",
    "#  should X be kernelized? What should the learning rate be? What should the     #\n",
    "#  number of iterations be?                                                      #\n",
    "##################################################################################\n",
    "Cvals = [100]\n",
    "iterationvals = [2000,5000,10000]\n",
    "learning_ratevals = [1e-3,1e-2,1e-1]\n",
    "\n",
    "best_C = 0\n",
    "best_learning_rate = 0\n",
    "best_iteration = 0\n",
    "best_val_acc = 0\n",
    "\n",
    "for C in Cvals:\n",
    "    for iteration in iterationvals: \n",
    "        for learning_rate in learning_ratevals:\n",
    "            print \"training with C: {}, num_iters: {}, learning_rate: {}\".format(C, iteration, learning_rate)\n",
    "            \n",
    "            svm = LinearSVM_twoclass()\n",
    "            svm.theta = np.zeros((X.shape[1],))\n",
    "            svm.train(X, yy, learning_rate, reg=C, num_iters=iteration, verbose=False)\n",
    "    \n",
    "            val_acc = np.mean(svm.predict(X_test) == yy_test)\n",
    "        \n",
    "            print \"When C = {}, num_iters = {}, learning_rate = {}, validation accuracy = {}\".format(C, iteration, learning_rate, val_acc)\n",
    "            print(\"-\"*70)\n",
    "            \n",
    "            if val_acc >= best_val_acc:\n",
    "                best_C = C\n",
    "                best_iteration = iteration\n",
    "                best_learning_rate = learning_rate\n",
    "                best_val_acc=val_acc\n",
    "                \n",
    "print \"So the best paramater set we derive is:\", best_C, best_iteration, best_learning_rate\n",
    "            \n"
   ]
  },
  {
   "cell_type": "code",
   "execution_count": null,
   "metadata": {
    "collapsed": true
   },
   "outputs": [],
   "source": []
  }
 ],
 "metadata": {
  "anaconda-cloud": {},
  "kernelspec": {
   "display_name": "Python [default]",
   "language": "python",
   "name": "python2"
  },
  "language_info": {
   "codemirror_mode": {
    "name": "ipython",
    "version": 2
   },
   "file_extension": ".py",
   "mimetype": "text/x-python",
   "name": "python",
   "nbconvert_exporter": "python",
   "pygments_lexer": "ipython2",
   "version": "2.7.12"
  }
 },
 "nbformat": 4,
 "nbformat_minor": 1
}
